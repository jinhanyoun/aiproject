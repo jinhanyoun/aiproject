{
 "cells": [
  {
   "cell_type": "code",
   "execution_count": 8,
   "metadata": {
    "collapsed": true
   },
   "outputs": [],
   "source": [
    "import pandas as pd"
   ]
  },
  {
   "cell_type": "code",
   "execution_count": 9,
   "metadata": {},
   "outputs": [],
   "source": [
    "# 윈도우 환경에서 파일을 그대로 읽으면 유니코드 에러 발생, encoding을 CP949로 강제 지정해준다\n",
    "data = pd.read_csv('Input/dfe_mct_data_set.csv',encoding='CP949')\n",
    "## data = pd.read_csv('../Input/creditcard.csv',header=None)"
   ]
  },
  {
   "cell_type": "code",
   "execution_count": 10,
   "metadata": {},
   "outputs": [
    {
     "name": "stdout",
     "output_type": "stream",
     "text": [
      "Credit Card Sales Data -  rows: 217607  columns: 13\n"
     ]
    }
   ],
   "source": [
    "print(\"Credit Card Sales Data -  rows:\",data.shape[0],\" columns:\", data.shape[1])"
   ]
  },
  {
   "cell_type": "code",
   "execution_count": 11,
   "metadata": {},
   "outputs": [
    {
     "data": {
      "text/html": [
       "<div>\n",
       "<style scoped>\n",
       "    .dataframe tbody tr th:only-of-type {\n",
       "        vertical-align: middle;\n",
       "    }\n",
       "\n",
       "    .dataframe tbody tr th {\n",
       "        vertical-align: top;\n",
       "    }\n",
       "\n",
       "    .dataframe thead th {\n",
       "        text-align: right;\n",
       "    }\n",
       "</style>\n",
       "<table border=\"1\" class=\"dataframe\">\n",
       "  <thead>\n",
       "    <tr style=\"text-align: right;\">\n",
       "      <th></th>\n",
       "      <th>CLNN</th>\n",
       "      <th>CLN_AGE</th>\n",
       "      <th>SEX_CCD</th>\n",
       "      <th>MCT_N</th>\n",
       "      <th>MCT_RY_CD</th>\n",
       "      <th>MCT_RY_NM</th>\n",
       "      <th>LAL_MCT_XC_VL</th>\n",
       "      <th>LAL_MCT_YC_VL</th>\n",
       "      <th>APV_TS_D</th>\n",
       "      <th>APV_TS_DL_TM</th>\n",
       "      <th>CRD_TCD</th>\n",
       "      <th>NS_MS_CN</th>\n",
       "      <th>SAA</th>\n",
       "    </tr>\n",
       "  </thead>\n",
       "  <tbody>\n",
       "    <tr>\n",
       "      <th>0</th>\n",
       "      <td>AA301810473</td>\n",
       "      <td>47</td>\n",
       "      <td>M</td>\n",
       "      <td>MM338736705</td>\n",
       "      <td>811000</td>\n",
       "      <td>종합병원</td>\n",
       "      <td>127.027019</td>\n",
       "      <td>37.587212</td>\n",
       "      <td>20171010</td>\n",
       "      <td>131835</td>\n",
       "      <td>0</td>\n",
       "      <td>0</td>\n",
       "      <td>400</td>\n",
       "    </tr>\n",
       "    <tr>\n",
       "      <th>1</th>\n",
       "      <td>AA359351932</td>\n",
       "      <td>32</td>\n",
       "      <td>M</td>\n",
       "      <td>MM270435483</td>\n",
       "      <td>215000</td>\n",
       "      <td>편의점</td>\n",
       "      <td>127.027019</td>\n",
       "      <td>37.587212</td>\n",
       "      <td>20171011</td>\n",
       "      <td>195305</td>\n",
       "      <td>0</td>\n",
       "      <td>0</td>\n",
       "      <td>500</td>\n",
       "    </tr>\n",
       "    <tr>\n",
       "      <th>2</th>\n",
       "      <td>AA163500364</td>\n",
       "      <td>24</td>\n",
       "      <td>F</td>\n",
       "      <td>MM270435483</td>\n",
       "      <td>215000</td>\n",
       "      <td>편의점</td>\n",
       "      <td>127.027019</td>\n",
       "      <td>37.587212</td>\n",
       "      <td>20171002</td>\n",
       "      <td>215852</td>\n",
       "      <td>1</td>\n",
       "      <td>0</td>\n",
       "      <td>600</td>\n",
       "    </tr>\n",
       "    <tr>\n",
       "      <th>3</th>\n",
       "      <td>AA301810473</td>\n",
       "      <td>47</td>\n",
       "      <td>M</td>\n",
       "      <td>MM270435483</td>\n",
       "      <td>215000</td>\n",
       "      <td>편의점</td>\n",
       "      <td>127.027019</td>\n",
       "      <td>37.587212</td>\n",
       "      <td>20171024</td>\n",
       "      <td>143102</td>\n",
       "      <td>0</td>\n",
       "      <td>0</td>\n",
       "      <td>700</td>\n",
       "    </tr>\n",
       "    <tr>\n",
       "      <th>4</th>\n",
       "      <td>AA375934003</td>\n",
       "      <td>24</td>\n",
       "      <td>M</td>\n",
       "      <td>MM346843093</td>\n",
       "      <td>215000</td>\n",
       "      <td>편의점</td>\n",
       "      <td>127.027019</td>\n",
       "      <td>37.587212</td>\n",
       "      <td>20171011</td>\n",
       "      <td>92733</td>\n",
       "      <td>1</td>\n",
       "      <td>0</td>\n",
       "      <td>800</td>\n",
       "    </tr>\n",
       "  </tbody>\n",
       "</table>\n",
       "</div>"
      ],
      "text/plain": [
       "          CLNN  CLN_AGE SEX_CCD        MCT_N  MCT_RY_CD MCT_RY_NM  \\\n",
       "0  AA301810473       47       M  MM338736705     811000      종합병원   \n",
       "1  AA359351932       32       M  MM270435483     215000       편의점   \n",
       "2  AA163500364       24       F  MM270435483     215000       편의점   \n",
       "3  AA301810473       47       M  MM270435483     215000       편의점   \n",
       "4  AA375934003       24       M  MM346843093     215000       편의점   \n",
       "\n",
       "   LAL_MCT_XC_VL  LAL_MCT_YC_VL  APV_TS_D  APV_TS_DL_TM  CRD_TCD  NS_MS_CN  \\\n",
       "0     127.027019      37.587212  20171010        131835        0         0   \n",
       "1     127.027019      37.587212  20171011        195305        0         0   \n",
       "2     127.027019      37.587212  20171002        215852        1         0   \n",
       "3     127.027019      37.587212  20171024        143102        0         0   \n",
       "4     127.027019      37.587212  20171011         92733        1         0   \n",
       "\n",
       "   SAA  \n",
       "0  400  \n",
       "1  500  \n",
       "2  600  \n",
       "3  700  \n",
       "4  800  "
      ]
     },
     "execution_count": 11,
     "metadata": {},
     "output_type": "execute_result"
    }
   ],
   "source": [
    "data.head()"
   ]
  },
  {
   "cell_type": "code",
   "execution_count": 12,
   "metadata": {},
   "outputs": [
    {
     "data": {
      "text/plain": [
       "Index(['CLNN', 'CLN_AGE', 'SEX_CCD', 'MCT_N', 'MCT_RY_CD', 'MCT_RY_NM',\n",
       "       'LAL_MCT_XC_VL', 'LAL_MCT_YC_VL', 'APV_TS_D', 'APV_TS_DL_TM', 'CRD_TCD',\n",
       "       'NS_MS_CN', 'SAA'],\n",
       "      dtype='object')"
      ]
     },
     "execution_count": 12,
     "metadata": {},
     "output_type": "execute_result"
    }
   ],
   "source": [
    "data.keys()"
   ]
  },
  {
   "cell_type": "code",
   "execution_count": 13,
   "metadata": {},
   "outputs": [
    {
     "name": "stdout",
     "output_type": "stream",
     "text": [
      "<class 'pandas.core.frame.DataFrame'>\n",
      "RangeIndex: 217607 entries, 0 to 217606\n",
      "Data columns (total 13 columns):\n",
      "CLNN             217607 non-null object\n",
      "CLN_AGE          217607 non-null int64\n",
      "SEX_CCD          217607 non-null object\n",
      "MCT_N            217607 non-null object\n",
      "MCT_RY_CD        217607 non-null int64\n",
      "MCT_RY_NM        217607 non-null object\n",
      "LAL_MCT_XC_VL    217607 non-null float64\n",
      "LAL_MCT_YC_VL    217607 non-null float64\n",
      "APV_TS_D         217607 non-null int64\n",
      "APV_TS_DL_TM     217607 non-null int64\n",
      "CRD_TCD          217607 non-null int64\n",
      "NS_MS_CN         217607 non-null int64\n",
      "SAA              217607 non-null int64\n",
      "dtypes: float64(2), int64(7), object(4)\n",
      "memory usage: 21.6+ MB\n"
     ]
    }
   ],
   "source": [
    "data.info()"
   ]
  },
  {
   "cell_type": "code",
   "execution_count": 14,
   "metadata": {},
   "outputs": [
    {
     "data": {
      "text/html": [
       "<div>\n",
       "<style scoped>\n",
       "    .dataframe tbody tr th:only-of-type {\n",
       "        vertical-align: middle;\n",
       "    }\n",
       "\n",
       "    .dataframe tbody tr th {\n",
       "        vertical-align: top;\n",
       "    }\n",
       "\n",
       "    .dataframe thead th {\n",
       "        text-align: right;\n",
       "    }\n",
       "</style>\n",
       "<table border=\"1\" class=\"dataframe\">\n",
       "  <thead>\n",
       "    <tr style=\"text-align: right;\">\n",
       "      <th></th>\n",
       "      <th>CLN_AGE</th>\n",
       "      <th>MCT_RY_CD</th>\n",
       "      <th>LAL_MCT_XC_VL</th>\n",
       "      <th>LAL_MCT_YC_VL</th>\n",
       "      <th>APV_TS_D</th>\n",
       "      <th>APV_TS_DL_TM</th>\n",
       "      <th>CRD_TCD</th>\n",
       "      <th>NS_MS_CN</th>\n",
       "      <th>SAA</th>\n",
       "    </tr>\n",
       "  </thead>\n",
       "  <tbody>\n",
       "    <tr>\n",
       "      <th>count</th>\n",
       "      <td>217607.000000</td>\n",
       "      <td>217607.000000</td>\n",
       "      <td>217607.000000</td>\n",
       "      <td>217607.000000</td>\n",
       "      <td>2.176070e+05</td>\n",
       "      <td>217607.000000</td>\n",
       "      <td>217607.000000</td>\n",
       "      <td>217607.000000</td>\n",
       "      <td>2.176070e+05</td>\n",
       "    </tr>\n",
       "    <tr>\n",
       "      <th>mean</th>\n",
       "      <td>33.038735</td>\n",
       "      <td>371046.740224</td>\n",
       "      <td>127.029934</td>\n",
       "      <td>37.586242</td>\n",
       "      <td>2.017102e+07</td>\n",
       "      <td>146541.209979</td>\n",
       "      <td>0.663306</td>\n",
       "      <td>0.023055</td>\n",
       "      <td>1.680763e+04</td>\n",
       "    </tr>\n",
       "    <tr>\n",
       "      <th>std</th>\n",
       "      <td>13.646205</td>\n",
       "      <td>201573.724514</td>\n",
       "      <td>0.001939</td>\n",
       "      <td>0.001874</td>\n",
       "      <td>8.116759e+00</td>\n",
       "      <td>51319.520947</td>\n",
       "      <td>0.472580</td>\n",
       "      <td>0.324283</td>\n",
       "      <td>1.211919e+05</td>\n",
       "    </tr>\n",
       "    <tr>\n",
       "      <th>min</th>\n",
       "      <td>14.000000</td>\n",
       "      <td>115000.000000</td>\n",
       "      <td>127.023601</td>\n",
       "      <td>37.582073</td>\n",
       "      <td>2.017100e+07</td>\n",
       "      <td>0.000000</td>\n",
       "      <td>0.000000</td>\n",
       "      <td>0.000000</td>\n",
       "      <td>-5.000000e+06</td>\n",
       "    </tr>\n",
       "    <tr>\n",
       "      <th>25%</th>\n",
       "      <td>23.000000</td>\n",
       "      <td>215000.000000</td>\n",
       "      <td>127.029160</td>\n",
       "      <td>37.584771</td>\n",
       "      <td>2.017101e+07</td>\n",
       "      <td>120350.000000</td>\n",
       "      <td>0.000000</td>\n",
       "      <td>0.000000</td>\n",
       "      <td>2.900000e+03</td>\n",
       "    </tr>\n",
       "    <tr>\n",
       "      <th>50%</th>\n",
       "      <td>27.000000</td>\n",
       "      <td>312000.000000</td>\n",
       "      <td>127.029640</td>\n",
       "      <td>37.586536</td>\n",
       "      <td>2.017102e+07</td>\n",
       "      <td>145618.000000</td>\n",
       "      <td>1.000000</td>\n",
       "      <td>0.000000</td>\n",
       "      <td>5.400000e+03</td>\n",
       "    </tr>\n",
       "    <tr>\n",
       "      <th>75%</th>\n",
       "      <td>43.000000</td>\n",
       "      <td>331000.000000</td>\n",
       "      <td>127.031232</td>\n",
       "      <td>37.587526</td>\n",
       "      <td>2.017102e+07</td>\n",
       "      <td>184605.000000</td>\n",
       "      <td>1.000000</td>\n",
       "      <td>0.000000</td>\n",
       "      <td>1.100000e+04</td>\n",
       "    </tr>\n",
       "    <tr>\n",
       "      <th>max</th>\n",
       "      <td>95.000000</td>\n",
       "      <td>982000.000000</td>\n",
       "      <td>127.034845</td>\n",
       "      <td>37.590431</td>\n",
       "      <td>2.017103e+07</td>\n",
       "      <td>235959.000000</td>\n",
       "      <td>1.000000</td>\n",
       "      <td>24.000000</td>\n",
       "      <td>1.500000e+07</td>\n",
       "    </tr>\n",
       "  </tbody>\n",
       "</table>\n",
       "</div>"
      ],
      "text/plain": [
       "             CLN_AGE      MCT_RY_CD  LAL_MCT_XC_VL  LAL_MCT_YC_VL  \\\n",
       "count  217607.000000  217607.000000  217607.000000  217607.000000   \n",
       "mean       33.038735  371046.740224     127.029934      37.586242   \n",
       "std        13.646205  201573.724514       0.001939       0.001874   \n",
       "min        14.000000  115000.000000     127.023601      37.582073   \n",
       "25%        23.000000  215000.000000     127.029160      37.584771   \n",
       "50%        27.000000  312000.000000     127.029640      37.586536   \n",
       "75%        43.000000  331000.000000     127.031232      37.587526   \n",
       "max        95.000000  982000.000000     127.034845      37.590431   \n",
       "\n",
       "           APV_TS_D   APV_TS_DL_TM        CRD_TCD       NS_MS_CN           SAA  \n",
       "count  2.176070e+05  217607.000000  217607.000000  217607.000000  2.176070e+05  \n",
       "mean   2.017102e+07  146541.209979       0.663306       0.023055  1.680763e+04  \n",
       "std    8.116759e+00   51319.520947       0.472580       0.324283  1.211919e+05  \n",
       "min    2.017100e+07       0.000000       0.000000       0.000000 -5.000000e+06  \n",
       "25%    2.017101e+07  120350.000000       0.000000       0.000000  2.900000e+03  \n",
       "50%    2.017102e+07  145618.000000       1.000000       0.000000  5.400000e+03  \n",
       "75%    2.017102e+07  184605.000000       1.000000       0.000000  1.100000e+04  \n",
       "max    2.017103e+07  235959.000000       1.000000      24.000000  1.500000e+07  "
      ]
     },
     "execution_count": 14,
     "metadata": {},
     "output_type": "execute_result"
    }
   ],
   "source": [
    "data.describe()"
   ]
  },
  {
   "cell_type": "code",
   "execution_count": 15,
   "metadata": {},
   "outputs": [
    {
     "data": {
      "image/png": "[encoded data removed]",
      "text/plain": [
       "<matplotlib.figure.Figure at 0x1da77268da0>"
      ]
     },
     "metadata": {},
     "output_type": "display_data"
    }
   ],
   "source": [
    "import matplotlib.pyplot as plt\n",
    "import seaborn as sns\n",
    "# import numpy as np\n",
    "\n",
    "%matplotlib inline\n",
    "\n",
    "# Feature별 histogram\n",
    "data.hist(figsize = (15,15))\n",
    "plt.show()"
   ]
  },
  {
   "cell_type": "code",
   "execution_count": null,
   "metadata": {
    "collapsed": true
   },
   "outputs": [],
   "source": []
  }
 ],
 "metadata": {
  "kernelspec": {
   "display_name": "Python 3",
   "language": "python",
   "name": "python3"
  },
  "language_info": {
   "codemirror_mode": {
    "name": "ipython",
    "version": 3
   },
   "file_extension": ".py",
   "mimetype": "text/x-python",
   "name": "python",
   "nbconvert_exporter": "python",
   "pygments_lexer": "ipython3",
   "version": "3.6.2"
  }
 },
 "nbformat": 4,
 "nbformat_minor": 2
}
